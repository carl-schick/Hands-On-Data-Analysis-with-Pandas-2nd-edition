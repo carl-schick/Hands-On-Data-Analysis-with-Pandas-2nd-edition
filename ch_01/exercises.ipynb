{
 "cells": [
  {
   "cell_type": "markdown",
   "metadata": {},
   "source": [
    "# Coding exercises\n",
    "Exercises 1-3 are thought exercises that don't require coding. If you need a Python crash-course/refresher, work through the [`python_101.ipynb`](./python_101.ipynb) notebook in chapter 1.\n",
    "\n",
    "## Exercise 4: Generate the data by running this cell\n",
    "This will give you a list of numbers to work with in the remaining exercises."
   ]
  },
  {
   "cell_type": "code",
   "execution_count": 33,
   "metadata": {},
   "outputs": [],
   "source": [
    "import random\n",
    "\n",
    "random.seed(0)\n",
    "salaries = [round(random.random()*1000000, -3) for _ in range(100)]"
   ]
  },
  {
   "cell_type": "markdown",
   "metadata": {},
   "source": [
    "## Exercise 5: Calculating statistics and verifying\n",
    "### mean"
   ]
  },
  {
   "cell_type": "code",
   "execution_count": 34,
   "metadata": {},
   "outputs": [
    {
     "name": "stdout",
     "output_type": "stream",
     "text": [
      "My result:  585690.0\n",
      "StatLib result:  585690.0\n"
     ]
    }
   ],
   "source": [
    "from statistics import mean\n",
    "\n",
    "total_salaries = 0.0\n",
    "for salary in salaries:\n",
    "    total_salaries += salary\n",
    "\n",
    "mean_salary = total_salaries / len(salaries)\n",
    "\n",
    "print(\"My result: \", mean_salary)\n",
    "print(\"StatLib result: \", mean(salaries))\n"
   ]
  },
  {
   "cell_type": "markdown",
   "metadata": {},
   "source": [
    "### median"
   ]
  },
  {
   "cell_type": "code",
   "execution_count": 35,
   "metadata": {},
   "outputs": [
    {
     "name": "stdout",
     "output_type": "stream",
     "text": [
      "My result:  589000.0\n",
      "StatLib result:  589000.0\n"
     ]
    }
   ],
   "source": [
    "from statistics import median\n",
    "\n",
    "median_salary = 0.0\n",
    "salaries.sort()\n",
    "\n",
    "if len(salaries) % 2 == 0:\n",
    "    mid_right_index = int(len(salaries) / 2)\n",
    "    mid_left_index = mid_right_index - 1\n",
    "    middle_salaries = salaries[mid_left_index] + salaries[mid_right_index]\n",
    "    median_salary = middle_salaries / 2\n",
    "else:\n",
    "    mid_index = len(salaries) / 2\n",
    "    median_salary = salaries[mid_index]\n",
    "\n",
    "print(\"My result: \", median_salary)\n",
    "print(\"StatLib result: \", median(salaries))"
   ]
  },
  {
   "cell_type": "markdown",
   "metadata": {},
   "source": [
    "### mode"
   ]
  },
  {
   "cell_type": "code",
   "execution_count": 36,
   "metadata": {},
   "outputs": [
    {
     "name": "stdout",
     "output_type": "stream",
     "text": [
      "My result:  477000.0\n",
      "StatLib result:  477000.0\n"
     ]
    }
   ],
   "source": [
    "from statistics import mode\n",
    "from collections import Counter\n",
    "\n",
    "most_common_salaries = Counter(salaries).most_common(1)\n",
    "mode_salary = most_common_salaries[0][0]\n",
    "\n",
    "print(\"My result: \", mode_salary)\n",
    "print(\"StatLib result: \", mode(salaries))"
   ]
  },
  {
   "cell_type": "markdown",
   "metadata": {},
   "source": [
    "### sample variance\n",
    "Remember to use Bessel's correction."
   ]
  },
  {
   "cell_type": "code",
   "execution_count": 37,
   "metadata": {},
   "outputs": [
    {
     "name": "stdout",
     "output_type": "stream",
     "text": [
      "My result:  70664054444.44444\n",
      "StatLib result:  70664054444.44444\n"
     ]
    }
   ],
   "source": [
    "from statistics import mean, variance\n",
    "sum_sqr_dist_from_mean = 0\n",
    "\n",
    "for salary in salaries:\n",
    "    sum_sqr_dist_from_mean += (salary - mean(salaries)) ** 2 \n",
    "\n",
    "variance_salaries = sum_sqr_dist_from_mean / (len(salaries) - 1)\n",
    "\n",
    "print(\"My result: \", variance_salaries)\n",
    "print(\"StatLib result: \", variance(salaries))"
   ]
  },
  {
   "cell_type": "markdown",
   "metadata": {},
   "source": [
    "### sample standard deviation\n",
    "Remember to use Bessel's correction."
   ]
  },
  {
   "cell_type": "code",
   "execution_count": 39,
   "metadata": {},
   "outputs": [
    {
     "name": "stdout",
     "output_type": "stream",
     "text": [
      "My result:  265827.11382484\n",
      "StatLib result:  265827.11382484\n"
     ]
    }
   ],
   "source": [
    "from statistics import variance, stdev\n",
    "\n",
    "stdev_salaries = (variance(salaries)) ** .5\n",
    "\n",
    "print(\"My result: \", stdev_salaries)\n",
    "print(\"StatLib result: \", stdev(salaries))"
   ]
  },
  {
   "cell_type": "markdown",
   "metadata": {},
   "source": [
    "## Exercise 6: Calculating more statistics\n",
    "### range"
   ]
  },
  {
   "cell_type": "code",
   "execution_count": null,
   "metadata": {},
   "outputs": [
    {
     "data": {
      "text/plain": [
       "995000.0"
      ]
     },
     "execution_count": 28,
     "metadata": {},
     "output_type": "execute_result"
    }
   ],
   "source": [
    "max(salaries) - min(salaries)"
   ]
  },
  {
   "cell_type": "markdown",
   "metadata": {},
   "source": [
    "### coefficient of variation\n",
    "Make sure to use the sample standard deviation."
   ]
  },
  {
   "cell_type": "code",
   "execution_count": 41,
   "metadata": {},
   "outputs": [
    {
     "name": "stdout",
     "output_type": "stream",
     "text": [
      "My result:  0.45386998894439035\n"
     ]
    }
   ],
   "source": [
    "from statistics import stdev, mean\n",
    "\n",
    "cv_stat = stdev(salaries) / mean(salaries)\n",
    "\n",
    "print(\"My result: \", cv_stat)\n"
   ]
  },
  {
   "cell_type": "markdown",
   "metadata": {},
   "source": [
    "### interquartile range"
   ]
  },
  {
   "cell_type": "code",
   "execution_count": null,
   "metadata": {},
   "outputs": [],
   "source": []
  },
  {
   "cell_type": "markdown",
   "metadata": {},
   "source": [
    "### quartile coefficent of dispersion"
   ]
  },
  {
   "cell_type": "code",
   "execution_count": null,
   "metadata": {},
   "outputs": [],
   "source": []
  },
  {
   "cell_type": "markdown",
   "metadata": {},
   "source": [
    "## Exercise 7: Scaling data\n",
    "### min-max scaling"
   ]
  },
  {
   "cell_type": "code",
   "execution_count": null,
   "metadata": {},
   "outputs": [],
   "source": []
  },
  {
   "cell_type": "markdown",
   "metadata": {},
   "source": [
    "### standardizing"
   ]
  },
  {
   "cell_type": "code",
   "execution_count": null,
   "metadata": {},
   "outputs": [],
   "source": []
  },
  {
   "cell_type": "markdown",
   "metadata": {},
   "source": [
    "## Exercise 8: Calculating covariance and correlation\n",
    "### covariance"
   ]
  },
  {
   "cell_type": "code",
   "execution_count": null,
   "metadata": {},
   "outputs": [],
   "source": []
  },
  {
   "cell_type": "markdown",
   "metadata": {},
   "source": [
    "### Pearson correlation coefficient ($\\rho$)"
   ]
  },
  {
   "cell_type": "code",
   "execution_count": null,
   "metadata": {},
   "outputs": [],
   "source": []
  },
  {
   "cell_type": "markdown",
   "metadata": {},
   "source": [
    "<hr>\n",
    "<div style=\"overflow: hidden; margin-bottom: 10px;\">\n",
    "    <div style=\"float: left;\">\n",
    "        <a href=\"./python_101.ipynb\">\n",
    "            <button>Python 101</button>\n",
    "        </a>\n",
    "    </div>\n",
    "    <div style=\"float: right;\">\n",
    "        <a href=\"../../solutions/ch_01/solutions.ipynb\">\n",
    "            <button>Solutions</button>\n",
    "        </a>\n",
    "        <a href=\"../ch_02/1-pandas_data_structures.ipynb\">\n",
    "            <button>Chapter 2 &#8594;</button>\n",
    "        </a>\n",
    "    </div>\n",
    "</div>\n",
    "<hr>"
   ]
  }
 ],
 "metadata": {
  "interpreter": {
   "hash": "2fada28f5bcea14beab479937a3a104859ac5463987f9af3410e82817f5f3f2c"
  },
  "kernelspec": {
   "display_name": "Python 3.8.12 64-bit ('hadawp': conda)",
   "name": "python3"
  },
  "language_info": {
   "codemirror_mode": {
    "name": "ipython",
    "version": 3
   },
   "file_extension": ".py",
   "mimetype": "text/x-python",
   "name": "python",
   "nbconvert_exporter": "python",
   "pygments_lexer": "ipython3",
   "version": "3.8.12"
  }
 },
 "nbformat": 4,
 "nbformat_minor": 4
}
