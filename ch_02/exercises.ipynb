{
 "cells": [
  {
   "cell_type": "markdown",
   "metadata": {},
   "source": [
    "### Using the data/parsed.csv file and the material from this chapter, complete the following exercises to practice your pandas skills:"
   ]
  },
  {
   "cell_type": "markdown",
   "metadata": {},
   "source": [
    "## Setup"
   ]
  },
  {
   "cell_type": "code",
   "execution_count": 165,
   "metadata": {},
   "outputs": [
    {
     "name": "stdout",
     "output_type": "stream",
     "text": [
      "<class 'pandas.core.frame.DataFrame'>\n",
      "RangeIndex: 9332 entries, 0 to 9331\n",
      "Data columns (total 27 columns):\n",
      " #   Column        Non-Null Count  Dtype  \n",
      "---  ------        --------------  -----  \n",
      " 0   alert         59 non-null     object \n",
      " 1   cdi           329 non-null    float64\n",
      " 2   code          9332 non-null   object \n",
      " 3   detail        9332 non-null   object \n",
      " 4   dmin          6139 non-null   float64\n",
      " 5   felt          329 non-null    float64\n",
      " 6   gap           6164 non-null   float64\n",
      " 7   ids           9332 non-null   object \n",
      " 8   mag           9331 non-null   float64\n",
      " 9   magType       9331 non-null   object \n",
      " 10  mmi           93 non-null     float64\n",
      " 11  net           9332 non-null   object \n",
      " 12  nst           5364 non-null   float64\n",
      " 13  place         9332 non-null   object \n",
      " 14  rms           9332 non-null   float64\n",
      " 15  sig           9332 non-null   int64  \n",
      " 16  sources       9332 non-null   object \n",
      " 17  status        9332 non-null   object \n",
      " 18  time          9332 non-null   int64  \n",
      " 19  title         9332 non-null   object \n",
      " 20  tsunami       9332 non-null   int64  \n",
      " 21  type          9332 non-null   object \n",
      " 22  types         9332 non-null   object \n",
      " 23  tz            9331 non-null   float64\n",
      " 24  updated       9332 non-null   int64  \n",
      " 25  url           9332 non-null   object \n",
      " 26  parsed_place  9332 non-null   object \n",
      "dtypes: float64(9), int64(4), object(14)\n",
      "memory usage: 1.9+ MB\n"
     ]
    }
   ],
   "source": [
    "import pandas as pd\n",
    "df = pd.read_csv('./data/parsed.csv')\n",
    "df.info()"
   ]
  },
  {
   "cell_type": "markdown",
   "metadata": {},
   "source": [
    "## Exercise 1\n",
    "#### Find the 95th percentile of earthquake magnitude in Japan using the mb magnitude type."
   ]
  },
  {
   "cell_type": "code",
   "execution_count": 166,
   "metadata": {},
   "outputs": [
    {
     "name": "stdout",
     "output_type": "stream",
     "text": [
      "earthquake      9081\n",
      "quarry blast      95\n",
      "explosion         80\n",
      "ice quake         72\n",
      "other event        4\n",
      "Name: type, dtype: int64\n",
      "ml       6803\n",
      "md       1796\n",
      "mb        601\n",
      "mww        68\n",
      "mb_lg      30\n",
      "mwr        14\n",
      "mh         12\n",
      "mw          4\n",
      "mwb         2\n",
      "ms_20       1\n",
      "Name: magType, dtype: int64\n",
      "\n",
      "Alaska                     3665\n",
      "California                 2861\n",
      "Nevada                      681\n",
      "Hawaii                      367\n",
      "Puerto Rico                 216\n",
      "                           ... \n",
      "Queen Charlotte Islands       1\n",
      "Uzbekistan                    1\n",
      "Prince Edward Islands         1\n",
      "Martinique                    1\n",
      "New Mexico                    1\n",
      "Name: parsed_place, Length: 110, dtype: int64\n"
     ]
    }
   ],
   "source": [
    "print(df.type.value_counts())\n",
    "print(df.magType.value_counts())\n",
    "print()\n",
    "print(df.parsed_place.value_counts())"
   ]
  },
  {
   "cell_type": "code",
   "execution_count": 167,
   "metadata": {},
   "outputs": [
    {
     "name": "stdout",
     "output_type": "stream",
     "text": [
      "<class 'pandas.core.frame.DataFrame'>\n",
      "RangeIndex: 9332 entries, 0 to 9331\n",
      "Data columns (total 4 columns):\n",
      " #   Column        Non-Null Count  Dtype  \n",
      "---  ------        --------------  -----  \n",
      " 0   type          9332 non-null   object \n",
      " 1   mag           9331 non-null   float64\n",
      " 2   magType       9331 non-null   object \n",
      " 3   parsed_place  9332 non-null   object \n",
      "dtypes: float64(1), object(3)\n",
      "memory usage: 291.8+ KB\n"
     ]
    },
    {
     "data": {
      "text/html": [
       "<div>\n",
       "<style scoped>\n",
       "    .dataframe tbody tr th:only-of-type {\n",
       "        vertical-align: middle;\n",
       "    }\n",
       "\n",
       "    .dataframe tbody tr th {\n",
       "        vertical-align: top;\n",
       "    }\n",
       "\n",
       "    .dataframe thead th {\n",
       "        text-align: right;\n",
       "    }\n",
       "</style>\n",
       "<table border=\"1\" class=\"dataframe\">\n",
       "  <thead>\n",
       "    <tr style=\"text-align: right;\">\n",
       "      <th></th>\n",
       "      <th>type</th>\n",
       "      <th>mag</th>\n",
       "      <th>magType</th>\n",
       "      <th>parsed_place</th>\n",
       "    </tr>\n",
       "  </thead>\n",
       "  <tbody>\n",
       "    <tr>\n",
       "      <th>0</th>\n",
       "      <td>earthquake</td>\n",
       "      <td>1.35</td>\n",
       "      <td>ml</td>\n",
       "      <td>California</td>\n",
       "    </tr>\n",
       "    <tr>\n",
       "      <th>1</th>\n",
       "      <td>earthquake</td>\n",
       "      <td>1.29</td>\n",
       "      <td>ml</td>\n",
       "      <td>California</td>\n",
       "    </tr>\n",
       "    <tr>\n",
       "      <th>2</th>\n",
       "      <td>earthquake</td>\n",
       "      <td>3.42</td>\n",
       "      <td>ml</td>\n",
       "      <td>California</td>\n",
       "    </tr>\n",
       "    <tr>\n",
       "      <th>3</th>\n",
       "      <td>earthquake</td>\n",
       "      <td>0.44</td>\n",
       "      <td>ml</td>\n",
       "      <td>California</td>\n",
       "    </tr>\n",
       "    <tr>\n",
       "      <th>4</th>\n",
       "      <td>earthquake</td>\n",
       "      <td>2.16</td>\n",
       "      <td>md</td>\n",
       "      <td>California</td>\n",
       "    </tr>\n",
       "  </tbody>\n",
       "</table>\n",
       "</div>"
      ],
      "text/plain": [
       "         type   mag magType parsed_place\n",
       "0  earthquake  1.35      ml   California\n",
       "1  earthquake  1.29      ml   California\n",
       "2  earthquake  3.42      ml   California\n",
       "3  earthquake  0.44      ml   California\n",
       "4  earthquake  2.16      md   California"
      ]
     },
     "execution_count": 167,
     "metadata": {},
     "output_type": "execute_result"
    }
   ],
   "source": [
    "df_eq_mag_place = df[['type', 'mag', 'magType','parsed_place']]\n",
    "df_eq_mag_place.info()\n",
    "df_eq_mag_place.head()"
   ]
  },
  {
   "cell_type": "code",
   "execution_count": 168,
   "metadata": {},
   "outputs": [
    {
     "data": {
      "text/plain": [
       "4.9"
      ]
     },
     "execution_count": 168,
     "metadata": {},
     "output_type": "execute_result"
    }
   ],
   "source": [
    "japan_mag_df = df.loc[(df['parsed_place'] == 'Japan') & (df['type'] == 'earthquake') & (df['magType'] == 'mb'), ['parsed_place', 'type', 'mag', 'magType']]\n",
    "japan_mag_df.mag.quantile(.95)"
   ]
  },
  {
   "cell_type": "markdown",
   "metadata": {},
   "source": [
    "*Summary Solution*"
   ]
  },
  {
   "cell_type": "code",
   "execution_count": 169,
   "metadata": {},
   "outputs": [
    {
     "data": {
      "text/plain": [
       "4.9"
      ]
     },
     "execution_count": 169,
     "metadata": {},
     "output_type": "execute_result"
    }
   ],
   "source": [
    "df_eq_mag_place = df[['type', 'mag', 'magType','parsed_place']]\n",
    "japan_mag_df = df.loc[(df['parsed_place'] == 'Japan') & (df['type'] == 'earthquake') & (df['magType'] == 'mb'), ['parsed_place', 'type', 'mag', 'magType']]\n",
    "japan_mag_df.mag.quantile(.95)"
   ]
  },
  {
   "cell_type": "markdown",
   "metadata": {},
   "source": [
    "*Book Solution*"
   ]
  },
  {
   "cell_type": "code",
   "execution_count": 170,
   "metadata": {},
   "outputs": [
    {
     "data": {
      "text/plain": [
       "4.9"
      ]
     },
     "execution_count": 170,
     "metadata": {},
     "output_type": "execute_result"
    }
   ],
   "source": [
    "df[\n",
    "    (df.parsed_place == 'Japan') & (df.magType == 'mb')\n",
    "].mag.quantile(0.95)"
   ]
  },
  {
   "cell_type": "markdown",
   "metadata": {},
   "source": [
    "## Exercise 2\n",
    "#### Find the percentage of earthquakes in Indonesia that were coupled with tsunamis.\n",
    "\n",
    "\n"
   ]
  },
  {
   "cell_type": "code",
   "execution_count": 171,
   "metadata": {},
   "outputs": [
    {
     "name": "stdout",
     "output_type": "stream",
     "text": [
      "3969\n",
      "918\n",
      "23.13%\n"
     ]
    }
   ],
   "source": [
    "df.tsunami.value_counts()\n",
    "indonesian_earthquakes_count = df[(df.parsed_place == 'Indonesia') & (df.type == 'earthquake')].size\n",
    "indonesian_earthquakes_with_tsunami_count = df[(df.parsed_place == 'Indonesia') & (df.type == 'earthquake') & (df.tsunami == 1)].size\n",
    "\n",
    "print(indonesian_earthquakes_count)\n",
    "print(indonesian_earthquakes_with_tsunami_count)\n",
    "print(\"{:.2%}\".format(indonesian_earthquakes_with_tsunami_count / indonesian_earthquakes_count))"
   ]
  },
  {
   "cell_type": "markdown",
   "metadata": {},
   "source": [
    "*Summary Solution*"
   ]
  },
  {
   "cell_type": "code",
   "execution_count": 172,
   "metadata": {},
   "outputs": [
    {
     "name": "stdout",
     "output_type": "stream",
     "text": [
      "23.13%\n"
     ]
    }
   ],
   "source": [
    "indonesian_earthquakes_count = df[(df.parsed_place == 'Indonesia') & (df.type == 'earthquake')].size\n",
    "indonesian_earthquakes_with_tsunami_count = df[(df.parsed_place == 'Indonesia') & (df.type == 'earthquake') & (df.tsunami == 1)].size\n",
    "\n",
    "print(\"{:.2%}\".format(indonesian_earthquakes_with_tsunami_count / indonesian_earthquakes_count))"
   ]
  },
  {
   "cell_type": "markdown",
   "metadata": {},
   "source": [
    "*Book Solution*"
   ]
  },
  {
   "cell_type": "code",
   "execution_count": 173,
   "metadata": {},
   "outputs": [
    {
     "data": {
      "text/plain": [
       "'23.13%'"
      ]
     },
     "execution_count": 173,
     "metadata": {},
     "output_type": "execute_result"
    }
   ],
   "source": [
    "f\"{df[df.parsed_place == 'Indonesia'].tsunami.value_counts(normalize=True).iloc[1,]:.2%}\""
   ]
  },
  {
   "cell_type": "markdown",
   "metadata": {},
   "source": [
    "## Exercise 3\n",
    "#### Calculate summary statistics for earthquakes in Nevada."
   ]
  },
  {
   "cell_type": "code",
   "execution_count": 174,
   "metadata": {},
   "outputs": [
    {
     "name": "stdout",
     "output_type": "stream",
     "text": [
      "Mean: 0.500073421439061\n",
      "Median: 0.4\n",
      "Std Dev: 0.6967100168237428\n",
      "\n",
      "Summary Statistics\n",
      "             cdi        dmin       felt         gap         mag   mmi  \\\n",
      "count  15.000000  681.000000  15.000000  681.000000  681.000000  1.00   \n",
      "mean    2.440000    0.166199   2.400000  153.668120    0.500073  2.84   \n",
      "std     0.501142    0.166228   4.626013   68.735302    0.696710   NaN   \n",
      "min     2.000000    0.001000   1.000000   29.140000   -0.500000  2.84   \n",
      "25%     2.000000    0.053000   1.000000   97.380000   -0.100000  2.84   \n",
      "50%     2.200000    0.112000   1.000000  149.140000    0.400000  2.84   \n",
      "75%     2.900000    0.233000   1.000000  199.720000    0.900000  2.84   \n",
      "max     3.300000    1.414000  19.000000  355.910000    2.900000  2.84   \n",
      "\n",
      "              nst         rms         sig          time  tsunami     tz  \\\n",
      "count  681.000000  681.000000  681.000000  6.810000e+02    681.0  681.0   \n",
      "mean    12.618209    0.151986   10.970631  1.538314e+12      0.0 -480.0   \n",
      "std      9.866963    0.084662   19.607150  5.965637e+08      0.0    0.0   \n",
      "min      3.000000    0.000500    0.000000  1.537247e+12      0.0 -480.0   \n",
      "25%      6.000000    0.106900    0.000000  1.537854e+12      0.0 -480.0   \n",
      "50%     10.000000    0.146300    2.000000  1.538280e+12      0.0 -480.0   \n",
      "75%     16.000000    0.187100   12.000000  1.538821e+12      0.0 -480.0   \n",
      "max     61.000000    0.863400  129.000000  1.539461e+12      0.0 -480.0   \n",
      "\n",
      "            updated  \n",
      "count  6.810000e+02  \n",
      "mean   1.538402e+12  \n",
      "std    6.010951e+08  \n",
      "min    1.537307e+12  \n",
      "25%    1.537928e+12  \n",
      "50%    1.538428e+12  \n",
      "75%    1.538878e+12  \n",
      "max    1.539483e+12  \n"
     ]
    }
   ],
   "source": [
    "df_nv_earthquakes = df[df.parsed_place == \"Nevada\"]\n",
    "mean_mag = df_nv_earthquakes.mag.mean()\n",
    "median_mag = df_nv_earthquakes.mag.median()\n",
    "stdev_mag = df_nv_earthquakes.mag.std()\n",
    "\n",
    "print(\"Mean:\", mean_mag)\n",
    "print(\"Median:\", median_mag)\n",
    "print(\"Std Dev:\", stdev_mag)\n",
    "print(\"\\nSummary Statistics\")\n",
    "print(df_nv_earthquakes.describe())"
   ]
  },
  {
   "cell_type": "markdown",
   "metadata": {},
   "source": [
    "## Exercise 4\n",
    "#### Add a column indicating whether the earthquake happened in a country or US state that is on the Ring of Fire. Use Alaska, Antarctica (look for Antarctic), Bolivia, California, Canada, Chile, Costa Rica, Ecuador, Fiji, Guatemala, Indonesia, Japan, Kermadec Islands, Mexico (be careful not to select New Mexico), New Zealand, Peru, Philippines, Russia, Taiwan, Tonga, and Washington.\n"
   ]
  },
  {
   "cell_type": "code",
   "execution_count": 175,
   "metadata": {},
   "outputs": [
    {
     "data": {
      "text/html": [
       "<div>\n",
       "<style scoped>\n",
       "    .dataframe tbody tr th:only-of-type {\n",
       "        vertical-align: middle;\n",
       "    }\n",
       "\n",
       "    .dataframe tbody tr th {\n",
       "        vertical-align: top;\n",
       "    }\n",
       "\n",
       "    .dataframe thead th {\n",
       "        text-align: right;\n",
       "    }\n",
       "</style>\n",
       "<table border=\"1\" class=\"dataframe\">\n",
       "  <thead>\n",
       "    <tr style=\"text-align: right;\">\n",
       "      <th></th>\n",
       "      <th>parsed_place</th>\n",
       "      <th>on_ring_of_fire</th>\n",
       "    </tr>\n",
       "  </thead>\n",
       "  <tbody>\n",
       "    <tr>\n",
       "      <th>0</th>\n",
       "      <td>California</td>\n",
       "      <td>True</td>\n",
       "    </tr>\n",
       "    <tr>\n",
       "      <th>1</th>\n",
       "      <td>California</td>\n",
       "      <td>True</td>\n",
       "    </tr>\n",
       "    <tr>\n",
       "      <th>2</th>\n",
       "      <td>California</td>\n",
       "      <td>True</td>\n",
       "    </tr>\n",
       "    <tr>\n",
       "      <th>3</th>\n",
       "      <td>California</td>\n",
       "      <td>True</td>\n",
       "    </tr>\n",
       "    <tr>\n",
       "      <th>4</th>\n",
       "      <td>California</td>\n",
       "      <td>True</td>\n",
       "    </tr>\n",
       "    <tr>\n",
       "      <th>...</th>\n",
       "      <td>...</td>\n",
       "      <td>...</td>\n",
       "    </tr>\n",
       "    <tr>\n",
       "      <th>9327</th>\n",
       "      <td>California</td>\n",
       "      <td>True</td>\n",
       "    </tr>\n",
       "    <tr>\n",
       "      <th>9328</th>\n",
       "      <td>California</td>\n",
       "      <td>True</td>\n",
       "    </tr>\n",
       "    <tr>\n",
       "      <th>9329</th>\n",
       "      <td>Puerto Rico</td>\n",
       "      <td>False</td>\n",
       "    </tr>\n",
       "    <tr>\n",
       "      <th>9330</th>\n",
       "      <td>California</td>\n",
       "      <td>True</td>\n",
       "    </tr>\n",
       "    <tr>\n",
       "      <th>9331</th>\n",
       "      <td>California</td>\n",
       "      <td>True</td>\n",
       "    </tr>\n",
       "  </tbody>\n",
       "</table>\n",
       "<p>9332 rows × 2 columns</p>\n",
       "</div>"
      ],
      "text/plain": [
       "     parsed_place  on_ring_of_fire\n",
       "0      California             True\n",
       "1      California             True\n",
       "2      California             True\n",
       "3      California             True\n",
       "4      California             True\n",
       "...           ...              ...\n",
       "9327   California             True\n",
       "9328   California             True\n",
       "9329  Puerto Rico            False\n",
       "9330   California             True\n",
       "9331   California             True\n",
       "\n",
       "[9332 rows x 2 columns]"
      ]
     },
     "execution_count": 175,
     "metadata": {},
     "output_type": "execute_result"
    }
   ],
   "source": [
    "ring_of_fire_countries = [\"Antarctic\", \"Bolivia\", \"Canada\", \"Chile\", \"Costa Rica\", \"Ecuador\", \"Fiji\", \"Guatemala\", \"Indonesia\", \"Japan\", \"Kermadec Islands\", \"Mexico\", \"New Zealand\", \"Peru\", \"Philippines\", \"Russia\", \"Taiwan\", \"Tonga\"]\n",
    "ring_of_fire_states = [\"Alaska\", \"California\", \"Washington\"]\n",
    "\n",
    "df['on_ring_of_fire'] = df['parsed_place'].isin(ring_of_fire_countries + ring_of_fire_states)\n",
    "df[['parsed_place', 'on_ring_of_fire']]"
   ]
  },
  {
   "cell_type": "markdown",
   "metadata": {},
   "source": [
    "## Exercise 5\n",
    "#### Calculate the number of earthquakes in the Ring of Fire locations and the number outside of them.\n"
   ]
  },
  {
   "cell_type": "code",
   "execution_count": 176,
   "metadata": {},
   "outputs": [
    {
     "name": "stdout",
     "output_type": "stream",
     "text": [
      "Quakes on Ring of Fire:  7184\n",
      "Quakes outside Ring of Fire:  2148\n"
     ]
    },
    {
     "data": {
      "text/plain": [
       "True     7184\n",
       "False    2148\n",
       "Name: on_ring_of_fire, dtype: int64"
      ]
     },
     "execution_count": 176,
     "metadata": {},
     "output_type": "execute_result"
    }
   ],
   "source": [
    "quakes_on_ring_of_fire = sum(df.on_ring_of_fire)\n",
    "quakes_outside_ring_of_fire = df.on_ring_of_fire.count() - quakes_on_ring_of_fire\n",
    "print(\"Quakes on Ring of Fire: \", quakes_on_ring_of_fire)\n",
    "print(\"Quakes outside Ring of Fire: \", quakes_outside_ring_of_fire)\n",
    "\n",
    "#Book Solution\n",
    "df.on_ring_of_fire.value_counts()"
   ]
  },
  {
   "cell_type": "markdown",
   "metadata": {},
   "source": [
    "## Exercise 6\n",
    "#### Find the tsunami count along the Ring of Fire."
   ]
  },
  {
   "cell_type": "code",
   "execution_count": 181,
   "metadata": {},
   "outputs": [
    {
     "name": "stdout",
     "output_type": "stream",
     "text": [
      "My tsunami count along Ring of Fire:  45\n",
      "Book tsunami count along Ring of Fire:  45\n"
     ]
    },
    {
     "name": "stderr",
     "output_type": "stream",
     "text": [
      "/var/folders/kt/b8lrpwpn5w9910rcrffl5p140000gp/T/ipykernel_19007/3259826999.py:1: UserWarning: Boolean Series key will be reindexed to match DataFrame index.\n",
      "  print(\"My tsunami count along Ring of Fire: \", df[df.on_ring_of_fire == True][df.tsunami == True]['on_ring_of_fire'].count())\n"
     ]
    }
   ],
   "source": [
    "print(\"My tsunami count along Ring of Fire: \", df[df.on_ring_of_fire == True][df.tsunami == True]['on_ring_of_fire'].count())\n",
    "\n",
    "# Book Solution\n",
    "print(\"Book tsunami count along Ring of Fire: \", df.loc[df.on_ring_of_fire, 'tsunami'].sum())"
   ]
  }
 ],
 "metadata": {
  "interpreter": {
   "hash": "2e23f2375a57999574a0269b283c75eed81f3eafcf4544127d3a066ff8356cdc"
  },
  "kernelspec": {
   "display_name": "Python 3.8.8 64-bit ('base': conda)",
   "language": "python",
   "name": "python3"
  },
  "language_info": {
   "codemirror_mode": {
    "name": "ipython",
    "version": 3
   },
   "file_extension": ".py",
   "mimetype": "text/x-python",
   "name": "python",
   "nbconvert_exporter": "python",
   "pygments_lexer": "ipython3",
   "version": "3.8.8"
  },
  "orig_nbformat": 4
 },
 "nbformat": 4,
 "nbformat_minor": 2
}
