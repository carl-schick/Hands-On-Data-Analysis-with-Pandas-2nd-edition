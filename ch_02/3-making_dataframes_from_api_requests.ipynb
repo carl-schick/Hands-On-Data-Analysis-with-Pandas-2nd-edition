{
 "cells": [
  {
   "cell_type": "markdown",
   "metadata": {},
   "source": [
    "# Making Pandas DataFrames from API Requests\n",
    "In this example, we will use the U.S. Geological Survey's API to grab a JSON object of earthquake data and convert it to a `pandas.DataFrame`.\n",
    "\n",
    "USGS API: https://earthquake.usgs.gov/fdsnws/event/1/"
   ]
  },
  {
   "cell_type": "markdown",
   "metadata": {},
   "source": [
    "### Get Data from API"
   ]
  },
  {
   "cell_type": "code",
   "execution_count": 1,
   "metadata": {},
   "outputs": [
    {
     "data": {
      "text/plain": [
       "200"
      ]
     },
     "execution_count": 1,
     "metadata": {},
     "output_type": "execute_result"
    }
   ],
   "source": [
    "import datetime as dt\n",
    "import pandas as pd\n",
    "import requests\n",
    "\n",
    "yesterday = dt.date.today() - dt.timedelta(days=1)\n",
    "api = 'https://earthquake.usgs.gov/fdsnws/event/1/query'\n",
    "payload = {\n",
    "    'format': 'geojson',\n",
    "    'starttime': yesterday - dt.timedelta(days=30),\n",
    "    'endtime': yesterday\n",
    "}\n",
    "response = requests.get(api, params=payload)\n",
    "\n",
    "# let's make sure the request was OK\n",
    "response.status_code"
   ]
  },
  {
   "cell_type": "markdown",
   "metadata": {},
   "source": [
    "Response of 200 means OK, so we can pull the data out of the result. Since we asked the API for a JSON payload, we can extract it from the response with the `json()` method.\n",
    "\n",
    "### Isolate the Data from the JSON Response\n",
    "We need to check the structures of the response data to know where our data is."
   ]
  },
  {
   "cell_type": "code",
   "execution_count": 3,
   "metadata": {},
   "outputs": [
    {
     "data": {
      "text/plain": [
       "dict_keys(['type', 'metadata', 'features', 'bbox'])"
      ]
     },
     "execution_count": 3,
     "metadata": {},
     "output_type": "execute_result"
    }
   ],
   "source": [
    "earthquake_json = response.json()\n",
    "earthquake_json.keys()"
   ]
  },
  {
   "cell_type": "markdown",
   "metadata": {},
   "source": [
    "The USGS API provides information about our request in the `metadata` key. Note that your result will be different, regardless of the date range you chose, because the API includes a timestamp for when the data was pulled:"
   ]
  },
  {
   "cell_type": "code",
   "execution_count": 4,
   "metadata": {},
   "outputs": [
    {
     "data": {
      "text/plain": [
       "{'generated': 1636072138000,\n",
       " 'url': 'https://earthquake.usgs.gov/fdsnws/event/1/query?format=geojson&starttime=2021-10-04&endtime=2021-11-03',\n",
       " 'title': 'USGS Earthquakes',\n",
       " 'status': 200,\n",
       " 'api': '1.12.3',\n",
       " 'count': 9534}"
      ]
     },
     "execution_count": 4,
     "metadata": {},
     "output_type": "execute_result"
    }
   ],
   "source": [
    "earthquake_json['metadata']"
   ]
  },
  {
   "cell_type": "markdown",
   "metadata": {},
   "source": [
    "Each element in the JSON array `features` is a row of data for our dataframe."
   ]
  },
  {
   "cell_type": "code",
   "execution_count": 5,
   "metadata": {},
   "outputs": [
    {
     "data": {
      "text/plain": [
       "list"
      ]
     },
     "execution_count": 5,
     "metadata": {},
     "output_type": "execute_result"
    }
   ],
   "source": [
    "type(earthquake_json['features'])"
   ]
  },
  {
   "cell_type": "markdown",
   "metadata": {},
   "source": [
    "Your data will be different depending on the date you run this."
   ]
  },
  {
   "cell_type": "code",
   "execution_count": 6,
   "metadata": {},
   "outputs": [
    {
     "data": {
      "text/plain": [
       "{'type': 'Feature',\n",
       " 'properties': {'mag': 1.5,\n",
       "  'place': '88 km SE of King Salmon, Alaska',\n",
       "  'time': 1635897098098,\n",
       "  'updated': 1635897381592,\n",
       "  'tz': None,\n",
       "  'url': 'https://earthquake.usgs.gov/earthquakes/eventpage/ak021e2gg6g4',\n",
       "  'detail': 'https://earthquake.usgs.gov/fdsnws/event/1/query?eventid=ak021e2gg6g4&format=geojson',\n",
       "  'felt': None,\n",
       "  'cdi': None,\n",
       "  'mmi': None,\n",
       "  'alert': None,\n",
       "  'status': 'automatic',\n",
       "  'tsunami': 0,\n",
       "  'sig': 35,\n",
       "  'net': 'ak',\n",
       "  'code': '021e2gg6g4',\n",
       "  'ids': ',ak021e2gg6g4,',\n",
       "  'sources': ',ak,',\n",
       "  'types': ',origin,',\n",
       "  'nst': None,\n",
       "  'dmin': None,\n",
       "  'rms': 0.45,\n",
       "  'gap': None,\n",
       "  'magType': 'ml',\n",
       "  'type': 'earthquake',\n",
       "  'title': 'M 1.5 - 88 km SE of King Salmon, Alaska'},\n",
       " 'geometry': {'type': 'Point', 'coordinates': [-155.7096, 58.0716, 117.1]},\n",
       " 'id': 'ak021e2gg6g4'}"
      ]
     },
     "execution_count": 6,
     "metadata": {},
     "output_type": "execute_result"
    }
   ],
   "source": [
    "earthquake_json['features'][0]"
   ]
  },
  {
   "cell_type": "markdown",
   "metadata": {},
   "source": [
    "### Convert to DataFrame\n",
    "We need to grab the `properties` section out of every entry in the `features` JSON array to create our dataframe."
   ]
  },
  {
   "cell_type": "code",
   "execution_count": 7,
   "metadata": {},
   "outputs": [
    {
     "data": {
      "text/html": [
       "<div>\n",
       "<style scoped>\n",
       "    .dataframe tbody tr th:only-of-type {\n",
       "        vertical-align: middle;\n",
       "    }\n",
       "\n",
       "    .dataframe tbody tr th {\n",
       "        vertical-align: top;\n",
       "    }\n",
       "\n",
       "    .dataframe thead th {\n",
       "        text-align: right;\n",
       "    }\n",
       "</style>\n",
       "<table border=\"1\" class=\"dataframe\">\n",
       "  <thead>\n",
       "    <tr style=\"text-align: right;\">\n",
       "      <th></th>\n",
       "      <th>mag</th>\n",
       "      <th>place</th>\n",
       "      <th>time</th>\n",
       "      <th>updated</th>\n",
       "      <th>tz</th>\n",
       "      <th>url</th>\n",
       "      <th>detail</th>\n",
       "      <th>felt</th>\n",
       "      <th>cdi</th>\n",
       "      <th>mmi</th>\n",
       "      <th>...</th>\n",
       "      <th>ids</th>\n",
       "      <th>sources</th>\n",
       "      <th>types</th>\n",
       "      <th>nst</th>\n",
       "      <th>dmin</th>\n",
       "      <th>rms</th>\n",
       "      <th>gap</th>\n",
       "      <th>magType</th>\n",
       "      <th>type</th>\n",
       "      <th>title</th>\n",
       "    </tr>\n",
       "  </thead>\n",
       "  <tbody>\n",
       "    <tr>\n",
       "      <th>0</th>\n",
       "      <td>1.50</td>\n",
       "      <td>88 km SE of King Salmon, Alaska</td>\n",
       "      <td>1635897098098</td>\n",
       "      <td>1635897381592</td>\n",
       "      <td>None</td>\n",
       "      <td>https://earthquake.usgs.gov/earthquakes/eventp...</td>\n",
       "      <td>https://earthquake.usgs.gov/fdsnws/event/1/que...</td>\n",
       "      <td>NaN</td>\n",
       "      <td>NaN</td>\n",
       "      <td>NaN</td>\n",
       "      <td>...</td>\n",
       "      <td>,ak021e2gg6g4,</td>\n",
       "      <td>,ak,</td>\n",
       "      <td>,origin,</td>\n",
       "      <td>NaN</td>\n",
       "      <td>NaN</td>\n",
       "      <td>0.4500</td>\n",
       "      <td>NaN</td>\n",
       "      <td>ml</td>\n",
       "      <td>earthquake</td>\n",
       "      <td>M 1.5 - 88 km SE of King Salmon, Alaska</td>\n",
       "    </tr>\n",
       "    <tr>\n",
       "      <th>1</th>\n",
       "      <td>0.70</td>\n",
       "      <td>34 km SE of Mina, Nevada</td>\n",
       "      <td>1635896352596</td>\n",
       "      <td>1635963537655</td>\n",
       "      <td>None</td>\n",
       "      <td>https://earthquake.usgs.gov/earthquakes/eventp...</td>\n",
       "      <td>https://earthquake.usgs.gov/fdsnws/event/1/que...</td>\n",
       "      <td>NaN</td>\n",
       "      <td>NaN</td>\n",
       "      <td>NaN</td>\n",
       "      <td>...</td>\n",
       "      <td>,nn00827325,</td>\n",
       "      <td>,nn,</td>\n",
       "      <td>,origin,phase-data,</td>\n",
       "      <td>15.0</td>\n",
       "      <td>0.03800</td>\n",
       "      <td>0.0994</td>\n",
       "      <td>93.03</td>\n",
       "      <td>ml</td>\n",
       "      <td>earthquake</td>\n",
       "      <td>M 0.7 - 34 km SE of Mina, Nevada</td>\n",
       "    </tr>\n",
       "    <tr>\n",
       "      <th>2</th>\n",
       "      <td>2.10</td>\n",
       "      <td>4 km S of P?hala, Hawaii</td>\n",
       "      <td>1635896300200</td>\n",
       "      <td>1635896500250</td>\n",
       "      <td>None</td>\n",
       "      <td>https://earthquake.usgs.gov/earthquakes/eventp...</td>\n",
       "      <td>https://earthquake.usgs.gov/fdsnws/event/1/que...</td>\n",
       "      <td>NaN</td>\n",
       "      <td>NaN</td>\n",
       "      <td>NaN</td>\n",
       "      <td>...</td>\n",
       "      <td>,hv72780612,</td>\n",
       "      <td>,hv,</td>\n",
       "      <td>,origin,phase-data,</td>\n",
       "      <td>36.0</td>\n",
       "      <td>NaN</td>\n",
       "      <td>0.1200</td>\n",
       "      <td>155.00</td>\n",
       "      <td>md</td>\n",
       "      <td>earthquake</td>\n",
       "      <td>M 2.1 - 4 km S of P?hala, Hawaii</td>\n",
       "    </tr>\n",
       "    <tr>\n",
       "      <th>3</th>\n",
       "      <td>1.23</td>\n",
       "      <td>12 km E of Smithfield, Utah</td>\n",
       "      <td>1635896285940</td>\n",
       "      <td>1635945107460</td>\n",
       "      <td>None</td>\n",
       "      <td>https://earthquake.usgs.gov/earthquakes/eventp...</td>\n",
       "      <td>https://earthquake.usgs.gov/fdsnws/event/1/que...</td>\n",
       "      <td>NaN</td>\n",
       "      <td>NaN</td>\n",
       "      <td>NaN</td>\n",
       "      <td>...</td>\n",
       "      <td>,uu60466517,</td>\n",
       "      <td>,uu,</td>\n",
       "      <td>,origin,phase-data,</td>\n",
       "      <td>17.0</td>\n",
       "      <td>0.07971</td>\n",
       "      <td>0.1400</td>\n",
       "      <td>87.00</td>\n",
       "      <td>ml</td>\n",
       "      <td>earthquake</td>\n",
       "      <td>M 1.2 - 12 km E of Smithfield, Utah</td>\n",
       "    </tr>\n",
       "    <tr>\n",
       "      <th>4</th>\n",
       "      <td>2.13</td>\n",
       "      <td>16km ESE of Julian, CA</td>\n",
       "      <td>1635896203230</td>\n",
       "      <td>1635899763840</td>\n",
       "      <td>None</td>\n",
       "      <td>https://earthquake.usgs.gov/earthquakes/eventp...</td>\n",
       "      <td>https://earthquake.usgs.gov/fdsnws/event/1/que...</td>\n",
       "      <td>1.0</td>\n",
       "      <td>2.2</td>\n",
       "      <td>NaN</td>\n",
       "      <td>...</td>\n",
       "      <td>,ci39847383,</td>\n",
       "      <td>,ci,</td>\n",
       "      <td>,dyfi,focal-mechanism,nearby-cities,origin,pha...</td>\n",
       "      <td>77.0</td>\n",
       "      <td>0.04980</td>\n",
       "      <td>0.1800</td>\n",
       "      <td>44.00</td>\n",
       "      <td>ml</td>\n",
       "      <td>earthquake</td>\n",
       "      <td>M 2.1 - 16km ESE of Julian, CA</td>\n",
       "    </tr>\n",
       "  </tbody>\n",
       "</table>\n",
       "<p>5 rows × 26 columns</p>\n",
       "</div>"
      ],
      "text/plain": [
       "    mag                            place           time        updated    tz  \\\n",
       "0  1.50  88 km SE of King Salmon, Alaska  1635897098098  1635897381592  None   \n",
       "1  0.70         34 km SE of Mina, Nevada  1635896352596  1635963537655  None   \n",
       "2  2.10         4 km S of P?hala, Hawaii  1635896300200  1635896500250  None   \n",
       "3  1.23      12 km E of Smithfield, Utah  1635896285940  1635945107460  None   \n",
       "4  2.13           16km ESE of Julian, CA  1635896203230  1635899763840  None   \n",
       "\n",
       "                                                 url  \\\n",
       "0  https://earthquake.usgs.gov/earthquakes/eventp...   \n",
       "1  https://earthquake.usgs.gov/earthquakes/eventp...   \n",
       "2  https://earthquake.usgs.gov/earthquakes/eventp...   \n",
       "3  https://earthquake.usgs.gov/earthquakes/eventp...   \n",
       "4  https://earthquake.usgs.gov/earthquakes/eventp...   \n",
       "\n",
       "                                              detail  felt  cdi  mmi  ...  \\\n",
       "0  https://earthquake.usgs.gov/fdsnws/event/1/que...   NaN  NaN  NaN  ...   \n",
       "1  https://earthquake.usgs.gov/fdsnws/event/1/que...   NaN  NaN  NaN  ...   \n",
       "2  https://earthquake.usgs.gov/fdsnws/event/1/que...   NaN  NaN  NaN  ...   \n",
       "3  https://earthquake.usgs.gov/fdsnws/event/1/que...   NaN  NaN  NaN  ...   \n",
       "4  https://earthquake.usgs.gov/fdsnws/event/1/que...   1.0  2.2  NaN  ...   \n",
       "\n",
       "              ids sources                                              types  \\\n",
       "0  ,ak021e2gg6g4,    ,ak,                                           ,origin,   \n",
       "1    ,nn00827325,    ,nn,                                ,origin,phase-data,   \n",
       "2    ,hv72780612,    ,hv,                                ,origin,phase-data,   \n",
       "3    ,uu60466517,    ,uu,                                ,origin,phase-data,   \n",
       "4    ,ci39847383,    ,ci,  ,dyfi,focal-mechanism,nearby-cities,origin,pha...   \n",
       "\n",
       "    nst     dmin     rms     gap magType        type  \\\n",
       "0   NaN      NaN  0.4500     NaN      ml  earthquake   \n",
       "1  15.0  0.03800  0.0994   93.03      ml  earthquake   \n",
       "2  36.0      NaN  0.1200  155.00      md  earthquake   \n",
       "3  17.0  0.07971  0.1400   87.00      ml  earthquake   \n",
       "4  77.0  0.04980  0.1800   44.00      ml  earthquake   \n",
       "\n",
       "                                     title  \n",
       "0  M 1.5 - 88 km SE of King Salmon, Alaska  \n",
       "1         M 0.7 - 34 km SE of Mina, Nevada  \n",
       "2         M 2.1 - 4 km S of P?hala, Hawaii  \n",
       "3      M 1.2 - 12 km E of Smithfield, Utah  \n",
       "4           M 2.1 - 16km ESE of Julian, CA  \n",
       "\n",
       "[5 rows x 26 columns]"
      ]
     },
     "execution_count": 7,
     "metadata": {},
     "output_type": "execute_result"
    }
   ],
   "source": [
    "earthquake_properties_data = [\n",
    "    quake['properties'] for quake in earthquake_json['features']\n",
    "]\n",
    "df = pd.DataFrame(earthquake_properties_data)\n",
    "df.head()"
   ]
  },
  {
   "cell_type": "markdown",
   "metadata": {},
   "source": [
    "### (Optional) Write Data to CSV"
   ]
  },
  {
   "cell_type": "code",
   "execution_count": 7,
   "metadata": {},
   "outputs": [],
   "source": [
    "df.to_csv('earthquakes.csv', index=False)"
   ]
  },
  {
   "cell_type": "markdown",
   "metadata": {},
   "source": [
    "<hr>\n",
    "<div>\n",
    "    <a href=\"./2-creating_dataframes.ipynb\">\n",
    "        <button style=\"float: left;\">&#8592; Previous Notebook</button>\n",
    "    </a>\n",
    "    <a href=\"./4-inspecting_dataframes.ipynb\">\n",
    "        <button style=\"float: right;\">Next Notebook &#8594;</button>\n",
    "    </a>\n",
    "</div>\n",
    "<br>\n",
    "<hr>"
   ]
  }
 ],
 "metadata": {
  "interpreter": {
   "hash": "2fada28f5bcea14beab479937a3a104859ac5463987f9af3410e82817f5f3f2c"
  },
  "kernelspec": {
   "display_name": "Python 3.8.12 64-bit ('hadawp': conda)",
   "name": "python3"
  },
  "language_info": {
   "codemirror_mode": {
    "name": "ipython",
    "version": 3
   },
   "file_extension": ".py",
   "mimetype": "text/x-python",
   "name": "python",
   "nbconvert_exporter": "python",
   "pygments_lexer": "ipython3",
   "version": "3.8.12"
  }
 },
 "nbformat": 4,
 "nbformat_minor": 4
}
